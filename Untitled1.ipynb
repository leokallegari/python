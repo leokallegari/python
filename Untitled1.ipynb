{
  "nbformat": 4,
  "nbformat_minor": 0,
  "metadata": {
    "colab": {
      "provenance": [],
      "authorship_tag": "ABX9TyPmJKSaF1OVG8I8PY/iKXhH",
      "include_colab_link": true
    },
    "kernelspec": {
      "name": "python3",
      "display_name": "Python 3"
    },
    "language_info": {
      "name": "python"
    }
  },
  "cells": [
    {
      "cell_type": "markdown",
      "metadata": {
        "id": "view-in-github",
        "colab_type": "text"
      },
      "source": [
        "<a href=\"https://colab.research.google.com/github/leokallegari/python/blob/main/Untitled1.ipynb\" target=\"_parent\"><img src=\"https://colab.research.google.com/assets/colab-badge.svg\" alt=\"Open In Colab\"/></a>"
      ]
    },
    {
      "cell_type": "code",
      "execution_count": null,
      "metadata": {
        "colab": {
          "base_uri": "https://localhost:8080/"
        },
        "id": "BaV04nkqATn8",
        "outputId": "82edbd39-6408-45ef-869f-670d65327601"
      },
      "outputs": [
        {
          "output_type": "stream",
          "name": "stdout",
          "text": [
            "digite um valor: 1\n",
            "digite um segundo valor: 2\n",
            "3\n"
          ]
        }
      ],
      "source": [
        "valor1 = int(input('digite um valor: '))\n",
        "valor2 = int(input('digite um segundo valor: '))\n",
        "print(valor1+valor2)"
      ]
    },
    {
      "cell_type": "code",
      "source": [
        "valor1 = int(input('digite um numerador: '))\n",
        "valor2 = int(input('digite um denominador (nao pode ser 0): '))\n",
        "print(valor1/valor2)"
      ],
      "metadata": {
        "colab": {
          "base_uri": "https://localhost:8080/"
        },
        "id": "SA4CIsIqAc2U",
        "outputId": "9f5b6d02-8301-4146-9fc0-22bb7fc6c4ac"
      },
      "execution_count": null,
      "outputs": [
        {
          "output_type": "stream",
          "name": "stdout",
          "text": [
            "digite um numerador: 10\n",
            "digite um denominador (nao pode ser 0): 2\n",
            "5.0\n"
          ]
        }
      ]
    },
    {
      "cell_type": "code",
      "source": [
        "valor1 = int(input('digite um operador: '))\n",
        "valor2 = int(input('digite uma potencia (nao pode ser 0): '))\n",
        "print(valor1**valor2)"
      ],
      "metadata": {
        "colab": {
          "base_uri": "https://localhost:8080/"
        },
        "id": "H41Br73bC078",
        "outputId": "fcef7774-518a-463d-ba8a-42afae361a31"
      },
      "execution_count": null,
      "outputs": [
        {
          "output_type": "stream",
          "name": "stdout",
          "text": [
            "digite um operador: 2\n",
            "digite uma potencia (nao pode ser 0): 3\n",
            "8\n"
          ]
        }
      ]
    },
    {
      "cell_type": "code",
      "source": [
        "valor1 = int(input('digite um numerador: '))\n",
        "valor2 = int(input('digite um denominador (nao pode ser 0): '))\n",
        "print(valor1//valor2)"
      ],
      "metadata": {
        "colab": {
          "base_uri": "https://localhost:8080/"
        },
        "id": "ABECjODpC_za",
        "outputId": "bb9d082f-b198-47fd-beed-63aa618e9130"
      },
      "execution_count": null,
      "outputs": [
        {
          "output_type": "stream",
          "name": "stdout",
          "text": [
            "digite um numerador: 10\n",
            "digite um denominador (nao pode ser 0): 3\n",
            "3\n"
          ]
        }
      ]
    },
    {
      "cell_type": "code",
      "source": [
        "valor1 = int(input('digite um numerador: '))\n",
        "valor2 = int(input('digite um denominador (nao pode ser 0): '))\n",
        "print(valor1%valor2)"
      ],
      "metadata": {
        "colab": {
          "base_uri": "https://localhost:8080/"
        },
        "id": "mESAm7CsDFJ7",
        "outputId": "1f922b84-3a2a-453e-c60b-7df1e4ef9e82"
      },
      "execution_count": null,
      "outputs": [
        {
          "output_type": "stream",
          "name": "stdout",
          "text": [
            "digite um numerador: 10\n",
            "digite um denominador (nao pode ser 0): 3\n",
            "1\n"
          ]
        }
      ]
    },
    {
      "cell_type": "code",
      "source": [],
      "metadata": {
        "id": "3ZQ2Fzn2DkLv"
      },
      "execution_count": null,
      "outputs": []
    },
    {
      "cell_type": "code",
      "source": [
        "nota_1 = float(input('Digite a 1° nota: '))\n",
        "nota_2 = float(input('Digite a 2° nota: '))\n",
        "nota_3 = float(input('Digite a 3° nota: '))\n",
        "print(f'Média {(nota_1+nota_2+nota_3)/3}.')"
      ],
      "metadata": {
        "colab": {
          "base_uri": "https://localhost:8080/"
        },
        "id": "H4eJij6nDbN8",
        "outputId": "c6a27d61-00f5-4ab5-c656-3479119bdd89"
      },
      "execution_count": null,
      "outputs": [
        {
          "output_type": "stream",
          "name": "stdout",
          "text": [
            "Digite a 1° nota: 7.5\n",
            "Digite a 2° nota: 10\n",
            "Digite a 3° nota: 9\n",
            "Média 8.833333333333334.\n"
          ]
        }
      ]
    },
    {
      "cell_type": "code",
      "source": [
        "media_ponderada = (5*1 + 12*2 + 20*3 + 15*4) / (1+2+3+4)\n",
        "print(f'Média {media_ponderada}.')"
      ],
      "metadata": {
        "colab": {
          "base_uri": "https://localhost:8080/"
        },
        "id": "RMB56Kp2DjLA",
        "outputId": "f02f07c1-5922-48cd-cf72-8aab2948bc96"
      },
      "execution_count": null,
      "outputs": [
        {
          "output_type": "stream",
          "name": "stdout",
          "text": [
            "Média 14.9.\n"
          ]
        }
      ]
    },
    {
      "cell_type": "code",
      "source": [
        "frase = 'leonardo callegari'\n",
        "print(frase)"
      ],
      "metadata": {
        "colab": {
          "base_uri": "https://localhost:8080/"
        },
        "id": "WQ4KqzpoENDq",
        "outputId": "3520e04f-2cff-41d7-f681-aec904512798"
      },
      "execution_count": null,
      "outputs": [
        {
          "output_type": "stream",
          "name": "stdout",
          "text": [
            "leonardo callegari\n"
          ]
        }
      ]
    },
    {
      "cell_type": "code",
      "source": [
        "frase = str(input('digite uma frase'))\n",
        "print(frase)"
      ],
      "metadata": {
        "colab": {
          "base_uri": "https://localhost:8080/"
        },
        "id": "HGc7-A-KEU8A",
        "outputId": "58769fed-b908-4a73-d2e4-e8051ee0f61c"
      },
      "execution_count": null,
      "outputs": [
        {
          "output_type": "stream",
          "name": "stdout",
          "text": [
            "digite uma fraseleonardo callegari\n",
            "leonardo callegari\n"
          ]
        }
      ]
    },
    {
      "cell_type": "code",
      "source": [
        "frase = str(input('digite uma frase'))\n",
        "print(frase.upper())"
      ],
      "metadata": {
        "colab": {
          "base_uri": "https://localhost:8080/"
        },
        "id": "dAw-ZrgHEddD",
        "outputId": "9bf709ac-dc21-440f-deb7-daac5874801b"
      },
      "execution_count": null,
      "outputs": [
        {
          "output_type": "stream",
          "name": "stdout",
          "text": [
            "digite uma fraseleonardo callegari\n",
            "LEONARDO CALLEGARI\n"
          ]
        }
      ]
    },
    {
      "cell_type": "code",
      "source": [
        "frase = str(input('digite uma frase'))\n",
        "print(frase.lower())"
      ],
      "metadata": {
        "colab": {
          "base_uri": "https://localhost:8080/"
        },
        "id": "ntgYXim0Ekt2",
        "outputId": "4ccc5ff2-a4b9-49ba-d640-8e216aa29379"
      },
      "execution_count": null,
      "outputs": [
        {
          "output_type": "stream",
          "name": "stdout",
          "text": [
            "digite uma fraseLEONRADO CALLEGARI\n",
            "leonrado callegari\n"
          ]
        }
      ]
    },
    {
      "cell_type": "code",
      "source": [
        "frase = str(input('digite uma frase'))\n",
        "print(frase.strip().lower())"
      ],
      "metadata": {
        "colab": {
          "base_uri": "https://localhost:8080/"
        },
        "id": "r_upf3CiEquM",
        "outputId": "ecffd13d-9ff6-41f1-b116-157107d79b01"
      },
      "execution_count": null,
      "outputs": [
        {
          "output_type": "stream",
          "name": "stdout",
          "text": [
            "digite uma fraseLEONARDO CALLEGARI   \n",
            "leonardo callegari\n"
          ]
        }
      ]
    },
    {
      "cell_type": "code",
      "source": [
        "frase = str(input('digite uma frase'))\n",
        "print(frase.replace('e', 'f'))"
      ],
      "metadata": {
        "colab": {
          "base_uri": "https://localhost:8080/"
        },
        "id": "I70X-ajlE4Zp",
        "outputId": "2258ad39-c011-497f-9104-7d5e91ec3a39"
      },
      "execution_count": null,
      "outputs": [
        {
          "output_type": "stream",
          "name": "stdout",
          "text": [
            "digite uma fraseleonardo callegari\n",
            "lfonardo callfgari\n"
          ]
        }
      ]
    },
    {
      "cell_type": "code",
      "source": [
        "numero1 = int(input('digite um número: '))\n",
        "numero2 = int(input('digite outro número (diferente do anterior): '))\n",
        "\n",
        "if numero1>numero2:\n",
        "  print(f'{numero1} (primeiro numero digitado) é maior que {numero2} (segundo numero digitado)')\n",
        "else:\n",
        "  print(f'{numero2} (segundo numero digitado) é maior que {numero1} (primeiro numero digitado)')"
      ],
      "metadata": {
        "id": "_ZAQ3F7eFPXn",
        "outputId": "4f7a5844-2ab5-4498-abdc-d06976e6d52e",
        "colab": {
          "base_uri": "https://localhost:8080/"
        }
      },
      "execution_count": 2,
      "outputs": [
        {
          "output_type": "stream",
          "name": "stdout",
          "text": [
            "digite um número: 10\n",
            "digite outro número (diferente do anterior): 4\n",
            "10 (primeiro numero digitado) é maior que 4 (segundo numero digitado)\n"
          ]
        }
      ]
    },
    {
      "cell_type": "code",
      "source": [
        "letra = input('digite uma letra: ').lower()\n",
        "vogais = 'aeiou'\n",
        "if letra in vogais:\n",
        "  print('sua letra é uma vogal')\n",
        "else:\n",
        "  print('sua letra é uma consoante')"
      ],
      "metadata": {
        "id": "erFvYZOfZoOq",
        "outputId": "a7f5a912-c3d6-40a4-a056-35d31cbd811b",
        "colab": {
          "base_uri": "https://localhost:8080/"
        }
      },
      "execution_count": 11,
      "outputs": [
        {
          "output_type": "stream",
          "name": "stdout",
          "text": [
            "digite uma letra: a\n",
            "sua letra é uma vogal\n"
          ]
        }
      ]
    },
    {
      "cell_type": "code",
      "source": [
        "##Escreva um programa que leia valores médios de preços de um modelo de carro por 3 anos consecutivos e exiba o valor mais alto e mais baixo entre esses três anos.\n",
        "\n",
        "valor1 = float(input('digite o valor do carro no primeiro ano: '))\n",
        "valor2 = float(input('digite o valor do carro no segundo ano: '))\n",
        "valor3 = float(input('digite o valor do carro no terceiro ano: '))\n",
        "\n",
        "maior = valor1\n",
        "if valor2 > maior:\n",
        "  maior = valor2\n",
        "if valor3 > maior:\n",
        "  maior = valor2\n",
        "\n",
        "menor = valor1\n",
        "if valor2 < menor:\n",
        "  menor = valor2\n",
        "if valor3 < menor:\n",
        "  menor = valor3\n",
        "\n",
        "print(str(f'o maior valor é: {maior}'))\n",
        "print(str(f'o menor valor é: {menor}'))"
      ],
      "metadata": {
        "id": "U1oJO3FkaCaY",
        "outputId": "e06b33b3-306f-418a-9b1c-9d405a09597e",
        "colab": {
          "base_uri": "https://localhost:8080/"
        }
      },
      "execution_count": 16,
      "outputs": [
        {
          "output_type": "stream",
          "name": "stdout",
          "text": [
            "digite o valor do carro no primeiro ano: 10.000\n",
            "digite o valor do carro no segundo ano: 8000\n",
            "digite o valor do carro no terceiro ano: 5000\n",
            "o maior valor é: 8000.0\n",
            "o menor valor é: 10.0\n"
          ]
        }
      ]
    },
    {
      "cell_type": "code",
      "source": [
        "##Escreva um programa que pergunte sobre o preço de três produtos e indique qual é o produto mais barato para comprar.\n",
        "\n",
        "valor1 = float(input('digite o valor do produto: R$'))\n",
        "valor2 = float(input('digite o valor do produto: R$'))\n",
        "valor3 = float(input('digite o valor do produto: R$'))\n",
        "\n",
        "if valor1 < valor2 and valor1 < valor3:\n",
        "    print('O primeiro produto é o mais barato.')\n",
        "elif valor2 < valor1 and valor2 < valor3:\n",
        "    print('O segundo produto é o mais barato.')\n",
        "elif valor3 < valor1 and valor3 < valor2:\n",
        "    print('O terceiro produto é o mais barato.')\n",
        "elif valor1 == valor2 == valor3:\n",
        "    print('Os produtos possuem o mesmo preço.')\n",
        "else:\n",
        "    if valor1 == valor2:\n",
        "        print('O primeiro e o segundo produtos são os mais baratos.')\n",
        "    elif valor2 == valor3:\n",
        "        print('O segundo e terceiro produtos são os mais baratos.')\n",
        "    elif valor1 == valor3:\n",
        "        print('O primeiro e o terceiro produtos são os mais baratos.')"
      ],
      "metadata": {
        "id": "ROlB5XuwcMdY",
        "outputId": "3ff8bb1b-df08-483c-f2ec-7ec3219b5e2e",
        "colab": {
          "base_uri": "https://localhost:8080/"
        }
      },
      "execution_count": 21,
      "outputs": [
        {
          "output_type": "stream",
          "name": "stdout",
          "text": [
            "digite o valor do produto: R$100\n",
            "digite o valor do produto: R$200\n",
            "digite o valor do produto: R$150\n",
            "O primeiro produto é o mais barato.\n"
          ]
        }
      ]
    },
    {
      "cell_type": "code",
      "source": [],
      "metadata": {
        "id": "h1F3DThxdGHp"
      },
      "execution_count": null,
      "outputs": []
    }
  ]
}