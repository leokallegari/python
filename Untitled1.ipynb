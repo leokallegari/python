{
  "nbformat": 4,
  "nbformat_minor": 0,
  "metadata": {
    "colab": {
      "provenance": [],
      "authorship_tag": "ABX9TyOwmSu45qN8tlKTZb5Dgj80",
      "include_colab_link": true
    },
    "kernelspec": {
      "name": "python3",
      "display_name": "Python 3"
    },
    "language_info": {
      "name": "python"
    }
  },
  "cells": [
    {
      "cell_type": "markdown",
      "metadata": {
        "id": "view-in-github",
        "colab_type": "text"
      },
      "source": [
        "<a href=\"https://colab.research.google.com/github/leokallegari/python/blob/main/Untitled1.ipynb\" target=\"_parent\"><img src=\"https://colab.research.google.com/assets/colab-badge.svg\" alt=\"Open In Colab\"/></a>"
      ]
    },
    {
      "cell_type": "code",
      "execution_count": null,
      "metadata": {
        "colab": {
          "base_uri": "https://localhost:8080/"
        },
        "id": "BaV04nkqATn8",
        "outputId": "82edbd39-6408-45ef-869f-670d65327601"
      },
      "outputs": [
        {
          "output_type": "stream",
          "name": "stdout",
          "text": [
            "digite um valor: 1\n",
            "digite um segundo valor: 2\n",
            "3\n"
          ]
        }
      ],
      "source": [
        "valor1 = int(input('digite um valor: '))\n",
        "valor2 = int(input('digite um segundo valor: '))\n",
        "print(valor1+valor2)"
      ]
    },
    {
      "cell_type": "code",
      "source": [
        "valor1 = int(input('digite um numerador: '))\n",
        "valor2 = int(input('digite um denominador (nao pode ser 0): '))\n",
        "print(valor1/valor2)"
      ],
      "metadata": {
        "colab": {
          "base_uri": "https://localhost:8080/"
        },
        "id": "SA4CIsIqAc2U",
        "outputId": "9f5b6d02-8301-4146-9fc0-22bb7fc6c4ac"
      },
      "execution_count": null,
      "outputs": [
        {
          "output_type": "stream",
          "name": "stdout",
          "text": [
            "digite um numerador: 10\n",
            "digite um denominador (nao pode ser 0): 2\n",
            "5.0\n"
          ]
        }
      ]
    },
    {
      "cell_type": "code",
      "source": [
        "valor1 = int(input('digite um operador: '))\n",
        "valor2 = int(input('digite uma potencia (nao pode ser 0): '))\n",
        "print(valor1**valor2)"
      ],
      "metadata": {
        "colab": {
          "base_uri": "https://localhost:8080/"
        },
        "id": "H41Br73bC078",
        "outputId": "fcef7774-518a-463d-ba8a-42afae361a31"
      },
      "execution_count": null,
      "outputs": [
        {
          "output_type": "stream",
          "name": "stdout",
          "text": [
            "digite um operador: 2\n",
            "digite uma potencia (nao pode ser 0): 3\n",
            "8\n"
          ]
        }
      ]
    },
    {
      "cell_type": "code",
      "source": [
        "valor1 = int(input('digite um numerador: '))\n",
        "valor2 = int(input('digite um denominador (nao pode ser 0): '))\n",
        "print(valor1//valor2)"
      ],
      "metadata": {
        "colab": {
          "base_uri": "https://localhost:8080/"
        },
        "id": "ABECjODpC_za",
        "outputId": "bb9d082f-b198-47fd-beed-63aa618e9130"
      },
      "execution_count": null,
      "outputs": [
        {
          "output_type": "stream",
          "name": "stdout",
          "text": [
            "digite um numerador: 10\n",
            "digite um denominador (nao pode ser 0): 3\n",
            "3\n"
          ]
        }
      ]
    },
    {
      "cell_type": "code",
      "source": [
        "valor1 = int(input('digite um numerador: '))\n",
        "valor2 = int(input('digite um denominador (nao pode ser 0): '))\n",
        "print(valor1%valor2)"
      ],
      "metadata": {
        "colab": {
          "base_uri": "https://localhost:8080/"
        },
        "id": "mESAm7CsDFJ7",
        "outputId": "1f922b84-3a2a-453e-c60b-7df1e4ef9e82"
      },
      "execution_count": null,
      "outputs": [
        {
          "output_type": "stream",
          "name": "stdout",
          "text": [
            "digite um numerador: 10\n",
            "digite um denominador (nao pode ser 0): 3\n",
            "1\n"
          ]
        }
      ]
    },
    {
      "cell_type": "code",
      "source": [],
      "metadata": {
        "id": "3ZQ2Fzn2DkLv"
      },
      "execution_count": null,
      "outputs": []
    },
    {
      "cell_type": "code",
      "source": [
        "nota_1 = float(input('Digite a 1° nota: '))\n",
        "nota_2 = float(input('Digite a 2° nota: '))\n",
        "nota_3 = float(input('Digite a 3° nota: '))\n",
        "print(f'Média {(nota_1+nota_2+nota_3)/3}.')"
      ],
      "metadata": {
        "colab": {
          "base_uri": "https://localhost:8080/"
        },
        "id": "H4eJij6nDbN8",
        "outputId": "c6a27d61-00f5-4ab5-c656-3479119bdd89"
      },
      "execution_count": null,
      "outputs": [
        {
          "output_type": "stream",
          "name": "stdout",
          "text": [
            "Digite a 1° nota: 7.5\n",
            "Digite a 2° nota: 10\n",
            "Digite a 3° nota: 9\n",
            "Média 8.833333333333334.\n"
          ]
        }
      ]
    },
    {
      "cell_type": "code",
      "source": [
        "media_ponderada = (5*1 + 12*2 + 20*3 + 15*4) / (1+2+3+4)\n",
        "print(f'Média {media_ponderada}.')"
      ],
      "metadata": {
        "colab": {
          "base_uri": "https://localhost:8080/"
        },
        "id": "RMB56Kp2DjLA",
        "outputId": "f02f07c1-5922-48cd-cf72-8aab2948bc96"
      },
      "execution_count": null,
      "outputs": [
        {
          "output_type": "stream",
          "name": "stdout",
          "text": [
            "Média 14.9.\n"
          ]
        }
      ]
    },
    {
      "cell_type": "code",
      "source": [
        "frase = 'leonardo callegari'\n",
        "print(frase)"
      ],
      "metadata": {
        "colab": {
          "base_uri": "https://localhost:8080/"
        },
        "id": "WQ4KqzpoENDq",
        "outputId": "3520e04f-2cff-41d7-f681-aec904512798"
      },
      "execution_count": null,
      "outputs": [
        {
          "output_type": "stream",
          "name": "stdout",
          "text": [
            "leonardo callegari\n"
          ]
        }
      ]
    },
    {
      "cell_type": "code",
      "source": [
        "frase = str(input('digite uma frase'))\n",
        "print(frase)"
      ],
      "metadata": {
        "colab": {
          "base_uri": "https://localhost:8080/"
        },
        "id": "HGc7-A-KEU8A",
        "outputId": "58769fed-b908-4a73-d2e4-e8051ee0f61c"
      },
      "execution_count": null,
      "outputs": [
        {
          "output_type": "stream",
          "name": "stdout",
          "text": [
            "digite uma fraseleonardo callegari\n",
            "leonardo callegari\n"
          ]
        }
      ]
    },
    {
      "cell_type": "code",
      "source": [
        "frase = str(input('digite uma frase'))\n",
        "print(frase.upper())"
      ],
      "metadata": {
        "colab": {
          "base_uri": "https://localhost:8080/"
        },
        "id": "dAw-ZrgHEddD",
        "outputId": "9bf709ac-dc21-440f-deb7-daac5874801b"
      },
      "execution_count": null,
      "outputs": [
        {
          "output_type": "stream",
          "name": "stdout",
          "text": [
            "digite uma fraseleonardo callegari\n",
            "LEONARDO CALLEGARI\n"
          ]
        }
      ]
    },
    {
      "cell_type": "code",
      "source": [
        "frase = str(input('digite uma frase'))\n",
        "print(frase.lower())"
      ],
      "metadata": {
        "colab": {
          "base_uri": "https://localhost:8080/"
        },
        "id": "ntgYXim0Ekt2",
        "outputId": "4ccc5ff2-a4b9-49ba-d640-8e216aa29379"
      },
      "execution_count": null,
      "outputs": [
        {
          "output_type": "stream",
          "name": "stdout",
          "text": [
            "digite uma fraseLEONRADO CALLEGARI\n",
            "leonrado callegari\n"
          ]
        }
      ]
    },
    {
      "cell_type": "code",
      "source": [
        "frase = str(input('digite uma frase'))\n",
        "print(frase.strip().lower())"
      ],
      "metadata": {
        "colab": {
          "base_uri": "https://localhost:8080/"
        },
        "id": "r_upf3CiEquM",
        "outputId": "ecffd13d-9ff6-41f1-b116-157107d79b01"
      },
      "execution_count": null,
      "outputs": [
        {
          "output_type": "stream",
          "name": "stdout",
          "text": [
            "digite uma fraseLEONARDO CALLEGARI   \n",
            "leonardo callegari\n"
          ]
        }
      ]
    },
    {
      "cell_type": "code",
      "source": [
        "frase = str(input('digite uma frase'))\n",
        "print(frase.replace('e', 'f'))"
      ],
      "metadata": {
        "colab": {
          "base_uri": "https://localhost:8080/"
        },
        "id": "I70X-ajlE4Zp",
        "outputId": "2258ad39-c011-497f-9104-7d5e91ec3a39"
      },
      "execution_count": null,
      "outputs": [
        {
          "output_type": "stream",
          "name": "stdout",
          "text": [
            "digite uma fraseleonardo callegari\n",
            "lfonardo callfgari\n"
          ]
        }
      ]
    },
    {
      "cell_type": "code",
      "source": [],
      "metadata": {
        "id": "_ZAQ3F7eFPXn"
      },
      "execution_count": null,
      "outputs": []
    }
  ]
}